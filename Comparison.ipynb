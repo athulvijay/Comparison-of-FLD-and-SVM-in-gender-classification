{
 "cells": [
  {
   "cell_type": "code",
   "execution_count": 35,
   "metadata": {},
   "outputs": [],
   "source": [
    "import cv2\n",
    "import numpy as np\n",
    "from matplotlib import pyplot as plt\n",
    "from os import listdir\n",
    "from os.path import isfile, join\n",
    "from sklearn.metrics import accuracy_score\n",
    "from sklearn.svm import SVC\n",
    "from sklearn.model_selection import train_test_split\n",
    "from sklearn.metrics import classification_report, confusion_matrix\n"
   ]
  },
  {
   "cell_type": "code",
   "execution_count": 36,
   "metadata": {},
   "outputs": [
    {
     "name": "stdout",
     "output_type": "stream",
     "text": [
      "[1 1 1 1 1 1 2 1 1 1 2 1 1 1 1 1 1 1 1 1 2 2 1 1 1 1 1 2 1 1 2 2 2 2 2 2 2\n",
      " 2 2 2 2 2 2 2 2 2 2 2 1 1 2 2 2 2 1 2 1 2 2 2]\n",
      "Accuracy for SVM using RBF kernal is 85.0\n",
      "Confusion Matrix for RBF Kernal\n",
      "[[25  4]\n",
      " [ 5 26]]\n"
     ]
    }
   ],
   "source": [
    "def loading_images(num,gender,label):\n",
    "    Image=[]\n",
    "    Label=[]\n",
    "    mypath=\"C:/Users/ATHUL VIJAY M P/Desktop/Pattern/simulation4/DATASET/dataset_final/trainings/\"+str(gender)+\"/\"\n",
    "    onlyfiles = [f for f in listdir(mypath) if isfile(join(mypath, f))]\n",
    "    for i in range(num):\n",
    "       s=str(mypath)+str(onlyfiles[i])\n",
    "       img = cv2.imread(s)\n",
    "       gray = cv2.cvtColor(img, cv2.COLOR_BGR2GRAY)\n",
    "       image = cv2.resize(gray,(50,40))\n",
    "       Image.append(np.ravel(image))\n",
    "       Label.append(label)\n",
    "    return Image,Label\n",
    "X1,Y1=loading_images(num=300,gender='female',label=1)\n",
    "X2,Y2=loading_images(num=300,gender='male',label=2)   \n",
    "X1_train, X1_test, Y1_train, Y1_test = train_test_split(X1,Y1, test_size = 10/100, random_state = 30)\n",
    "X2_train, X2_test, Y2_train, Y2_test = train_test_split(X2,Y2, test_size = 10/100, random_state = 30)\n",
    "s_clf = SVC(kernel ='rbf')\n",
    "Xtrain=np.concatenate((X1_train,X2_train))\n",
    "Ytrain=np.concatenate((Y1_train,Y2_train))\n",
    "Xtest=np.concatenate((X1_test,X2_test))\n",
    "Ytest=np.concatenate((Y1_test,Y2_test))\n",
    "s_clf.fit(Xtrain,Ytrain)\n",
    "prediction1 = s_clf.predict(Xtest)\n",
    "print (prediction1)\n",
    "acc1 = accuracy_score(prediction1,Ytest)\n",
    "print('Accuracy for SVM using RBF kernal is',acc1*100)\n",
    "print('Confusion Matrix for RBF Kernal' )\n",
    "print(confusion_matrix(prediction1,Ytest))\n"
   ]
  },
  {
   "cell_type": "code",
   "execution_count": 37,
   "metadata": {},
   "outputs": [
    {
     "name": "stdout",
     "output_type": "stream",
     "text": [
      "[1 1 1 1 1 1 2 1 1 1 2 1 1 1 1 1 1 2 2 1 1 2 1 1 1 1 1 2 1 1 2 2 2 2 1 2 1\n",
      " 2 1 2 2 2 2 2 2 2 1 2 1 1 2 2 2 2 2 1 2 2 2 2]\n",
      "Accuracy for SVM using Cubic Polynomial kernal is 78.33333333333333 \n",
      "\n"
     ]
    }
   ],
   "source": [
    "poly= SVC(kernel='poly', degree=3)\n",
    "poly.fit(Xtrain,Ytrain)\n",
    "prediction2 = poly.predict(Xtest)\n",
    "acc2 = accuracy_score(prediction2,Ytest)\n",
    "print (prediction2)\n",
    "print('Accuracy for SVM using Cubic Polynomial kernal is',acc2*100,'\\n')"
   ]
  },
  {
   "cell_type": "code",
   "execution_count": 38,
   "metadata": {},
   "outputs": [
    {
     "name": "stdout",
     "output_type": "stream",
     "text": [
      "[1 1 2 1 1 1 1 1 1 2 1 1 1 1 2 1 1 2 2 1 1 2 2 1 1 1 1 2 1 1 2 2 2 2 2 2 1\n",
      " 2 1 2 2 1 2 2 2 2 1 2 2 2 2 2 2 2 2 2 2 2 2 2]\n",
      "Accuracy for SVM using Linear kernal is 80.0 \n",
      "\n"
     ]
    }
   ],
   "source": [
    "linear= SVC(kernel='linear',C=0.01)\n",
    "linear.fit(Xtrain,Ytrain)\n",
    "prediction3 = linear.predict(Xtest)\n",
    "acc3 = accuracy_score(prediction3,Ytest)\n",
    "print (prediction3)\n",
    "print('Accuracy for SVM using Linear kernal is',acc3*100,'\\n')\n"
   ]
  },
  {
   "cell_type": "code",
   "execution_count": 39,
   "metadata": {
    "scrolled": true
   },
   "outputs": [
    {
     "name": "stdout",
     "output_type": "stream",
     "text": [
      "[2 2 2 2 2 2 2 2 2 2 2 2 2 2 2 2 2 2 2 2 2 2 2 2 2 2 2 2 2 2 2 2 2 2 2 1 2\n",
      " 2 2 2 2 2 2 2 2 2 2 2 2 2 2 2 2 2 2 2 2 2 2 2]\n",
      "Accuracy for SVM using Sigmoid kernal is 48.333333333333336 \n",
      "\n"
     ]
    }
   ],
   "source": [
    "sigmoid= SVC(kernel='sigmoid')\n",
    "sigmoid.fit(Xtrain,Ytrain)\n",
    "prediction4 = sigmoid.predict(Xtest)\n",
    "print (prediction4)\n",
    "acc4 = accuracy_score(prediction4,Ytest)\n",
    "print('Accuracy for SVM using Sigmoid kernal is',acc4*100,'\\n')\n"
   ]
  },
  {
   "cell_type": "code",
   "execution_count": 40,
   "metadata": {},
   "outputs": [
    {
     "name": "stdout",
     "output_type": "stream",
     "text": [
      "[1 1 2 1 1 1 2 1 1 1 1 1 1 1 1 1 1 1 2 1 1 2 1 1 2 1 1 2 1 1 2 1 2 2 1 2 1\n",
      " 2 1 2 2 2 2 2 2 1 1 2 2 2 2 2 2 2 2 2 1 1 2 2]\n",
      "Accuracy by using Fisher linear discriminant is  76.66666666666667 %\n"
     ]
    }
   ],
   "source": [
    "\n",
    "from sklearn.discriminant_analysis import LinearDiscriminantAnalysis as LDA\n",
    "from sklearn.preprocessing import StandardScaler\n",
    "\n",
    "\n",
    "X_train = StandardScaler().fit_transform(Xtrain)\n",
    "X_test= StandardScaler().fit_transform(Xtest)\n",
    "lda = LDA(n_components =1)\n",
    "lda.fit_transform(X_train,Ytrain)\n",
    "lda.transform(X_test)\n",
    "prdt=lda.predict(X_test)\n",
    "print(prdt)\n",
    "\n",
    "\n",
    "print(\"Accuracy by using Fisher linear discriminant is \",accuracy_score(Ytest, prdt)*100,'%')"
   ]
  }
 ],
 "metadata": {
  "kernelspec": {
   "display_name": "Python 3",
   "language": "python",
   "name": "python3"
  },
  "language_info": {
   "codemirror_mode": {
    "name": "ipython",
    "version": 3
   },
   "file_extension": ".py",
   "mimetype": "text/x-python",
   "name": "python",
   "nbconvert_exporter": "python",
   "pygments_lexer": "ipython3",
   "version": "3.7.6"
  }
 },
 "nbformat": 4,
 "nbformat_minor": 4
}
