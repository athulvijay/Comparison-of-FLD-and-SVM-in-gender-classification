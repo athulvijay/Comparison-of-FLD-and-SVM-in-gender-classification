{
 "cells": [
  {
   "cell_type": "code",
   "execution_count": 2,
   "metadata": {},
   "outputs": [
    {
     "name": "stdout",
     "output_type": "stream",
     "text": [
      "85.0\n"
     ]
    }
   ],
   "source": [
    "import cv2\n",
    "import numpy as np\n",
    "from os import listdir\n",
    "from os.path import isfile, join\n",
    "#from matplotlib import pyplot as plt\n",
    "from sklearn.metrics import accuracy_score\n",
    "from sklearn.svm import SVC\n",
    "from sklearn.model_selection import train_test_split\n",
    "\n",
    "\n",
    "def Loadimages(n,gender,value):\n",
    "    Image=[]\n",
    "    Value=[]    \n",
    "    mypath=\"C:/Users/ATHUL VIJAY M P/Desktop/Pattern/simulation4/DATASET/dataset_final/trainings/\"+str(gender)+\"/\"\n",
    "    onlyfiles = [f for f in listdir(mypath) if isfile(join(mypath, f))]\n",
    "    for i in range(n):\n",
    "       s=str(mypath)+str(onlyfiles[i])\n",
    "       \n",
    "       img = cv2.imread(s)\n",
    "       gray = cv2.cvtColor(img, cv2.COLOR_BGR2GRAY)\n",
    "       image = cv2.resize(gray,(50,40))\n",
    "       Image.append(np.ravel(image))\n",
    "       Value.append(value)\n",
    "    return Image,Value\n",
    "           \n",
    "X1,Y1=Loadimages(300,gender='female',value=1)\n",
    "X2,Y2=Loadimages(300,gender='male',value=2)\n",
    "X1_train, X1_test, Y1_train, Y1_test = train_test_split(X1,Y1, test_size = 10/100, random_state = 30)\n",
    "X2_train, X2_test, Y2_train, Y2_test = train_test_split(X2,Y2, test_size = 10/100, random_state = 30)\n",
    "s_clf = SVC(kernel ='rbf')\n",
    "X=np.concatenate((X1_train,X2_train))\n",
    "Y=np.concatenate((Y1_train,Y2_train))\n",
    "Xtest=np.concatenate((X1_test,X2_test))\n",
    "Ytest=np.concatenate((Y1_test,Y2_test))\n",
    "s_clf.fit(X,Y)\n",
    "prediction = s_clf.predict(Xtest)\n",
    "#print (prediction)\n",
    "acc = accuracy_score(prediction,Ytest)\n",
    "print(acc*100)\n"
   ]
  },
  {
   "cell_type": "code",
   "execution_count": null,
   "metadata": {},
   "outputs": [],
   "source": []
  }
 ],
 "metadata": {
  "kernelspec": {
   "display_name": "Python 3",
   "language": "python",
   "name": "python3"
  },
  "language_info": {
   "codemirror_mode": {
    "name": "ipython",
    "version": 3
   },
   "file_extension": ".py",
   "mimetype": "text/x-python",
   "name": "python",
   "nbconvert_exporter": "python",
   "pygments_lexer": "ipython3",
   "version": "3.7.6"
  }
 },
 "nbformat": 4,
 "nbformat_minor": 4
}
